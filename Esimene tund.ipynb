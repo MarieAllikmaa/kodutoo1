{
 "cells": [
  {
   "cell_type": "markdown",
   "metadata": {},
   "source": [
    "## Loogilised tehted (vt truth tables)"
   ]
  },
  {
   "cell_type": "code",
   "execution_count": 7,
   "metadata": {},
   "outputs": [
    {
     "name": "stdout",
     "output_type": "stream",
     "text": [
      "Logical operators\n",
      "True\n",
      "False\n",
      "True\n",
      "False\n",
      "False\n",
      "True\n",
      "True\n"
     ]
    }
   ],
   "source": [
    "print(\"Logical operators\")\n",
    "print(True or False)#True\n",
    "print(True and False)#False\n",
    "print(False or True)\n",
    "print(False and False and True)\n",
    "print(False or False and True)\n",
    "print(False and False or True)\n",
    "print(not False)"
   ]
  },
  {
   "cell_type": "code",
   "execution_count": 8,
   "metadata": {},
   "outputs": [
    {
     "name": "stdout",
     "output_type": "stream",
     "text": [
      "True\n",
      "True\n"
     ]
    }
   ],
   "source": [
    "print(\"fox\" not in \"cow, sheep, cat\")\n",
    "print(\"wine\" in \"France is famous for its wines\")"
   ]
  },
  {
   "cell_type": "markdown",
   "metadata": {},
   "source": [
    "## dicc in list"
   ]
  },
  {
   "cell_type": "code",
   "execution_count": 59,
   "metadata": {},
   "outputs": [
    {
     "name": "stdout",
     "output_type": "stream",
     "text": [
      "[{'name': 'Mike', 'age': 35, 'phone': '555'}, {'name': 'Lina', 'last_name': 'Tamm'}, {'name': 'Jenny', 'city': 'Madrid'}]\n",
      "[{'name': 'Mike', 'age': 35, 'phone': '555'}, {'name': 'Lina', 'last_name': 'Tamm', 'phone': '789'}, {'name': 'Jenny', 'city': 'Madrid'}]\n",
      "[{'name': 'Mike', 'age': 35, 'phone': '555'}, {'name': 'Lina', 'last_name': 'Tamm', 'phone': '789'}, {'name': 'Jenny', 'city': 'Madrid', 'phone': '364'}]\n"
     ]
    }
   ],
   "source": [
    "database=[]\n",
    "\n",
    "user1 = {\n",
    " 'name': 'Mike',\n",
    " 'age': 35,\n",
    "}\n",
    "\n",
    "user2 = {\n",
    " 'name': 'Lina',\n",
    " 'last_name': 'Tamm',\n",
    "}\n",
    "\n",
    "user3 = {\n",
    " 'name': 'Jenny',\n",
    " 'city': 'Madrid'\n",
    "}\n",
    "\n",
    "database.append(user1)\n",
    "database.append(user2)\n",
    "database.append(user3)\n",
    "\n",
    "\n",
    "def add_phone(phone_number):\n",
    "    user['phone'] = phone_number\n",
    "    return user\n",
    "\n",
    "for user in database:\n",
    "    if user['name'] == 'Mike':\n",
    "        add_phone('555')\n",
    "    if user['name'] == 'Lina':\n",
    "        add_phone('789')\n",
    "    if user['name'] == 'Jenny':\n",
    "        add_phone('364')\n",
    "        \n",
    "    print(database)\n",
    "    \n",
    "#print(database)"
   ]
  },
  {
   "cell_type": "markdown",
   "metadata": {},
   "source": []
  }
 ],
 "metadata": {
  "kernelspec": {
   "display_name": "Python 3",
   "language": "python",
   "name": "python3"
  },
  "language_info": {
   "codemirror_mode": {
    "name": "ipython",
    "version": 3
   },
   "file_extension": ".py",
   "mimetype": "text/x-python",
   "name": "python",
   "nbconvert_exporter": "python",
   "pygments_lexer": "ipython3",
   "version": "3.7.4"
  }
 },
 "nbformat": 4,
 "nbformat_minor": 2
}
